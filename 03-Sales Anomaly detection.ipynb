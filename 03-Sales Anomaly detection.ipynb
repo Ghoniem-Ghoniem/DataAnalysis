{
 "cells": [
  {
   "cell_type": "code",
   "execution_count": 2,
   "metadata": {},
   "outputs": [
    {
     "name": "stdout",
     "output_type": "stream",
     "text": [
      "    Year  TotalCost\n",
      "0   1997        124\n",
      "1   1998       1225\n",
      "2   1999       1260\n",
      "3   2000       1277\n",
      "4   2001       1306\n",
      "5   2002       1332\n",
      "6   2003       1358\n",
      "7   2004       1384\n",
      "8   2005       1410\n",
      "9   2006       1436\n",
      "10  2007       1462\n",
      "11  2008       2008\n",
      "12  2009       1514\n",
      "13  2010       1540\n",
      "14  2011       1566\n",
      "15  2012       1592\n",
      "16  2013       1618\n",
      "17  2014       1644\n",
      "18  2015       1670\n",
      "19  2016       1696\n",
      "20  2017       1722\n",
      "21  2018       1748\n",
      "22  2019      10000\n",
      "877.0\n",
      "2125.0\n",
      "    Year  TotalCost\n",
      "0   1997        124\n",
      "22  2019      10000\n",
      "Range of the cost is :  9876\n"
     ]
    }
   ],
   "source": [
    "from scipy import stats\n",
    "import numpy as np\n",
    "from scipy.stats import norm\n",
    "import pandas as pd\n",
    "df = pd.read_excel(\"Sales.xlsx\",'Sales')\n",
    "print (df)\n",
    "y = df[['TotalCost']]\n",
    "IQR = stats.iqr(y)\n",
    "Q3 = np.percentile(y,75) #getting the third quarter by percentile\n",
    "Q1=np.percentile(y,25)#getting the first quarter by percentile\n",
    "\n",
    "Q3Quantile = np.quantile(y, 0.75)#getting the third quarter by quantile\n",
    "Q1Quantile = np.quantile(y, 0.25) #getting the first quarter by quantile\n",
    "\n",
    "IQR2 =Q3-Q1\n",
    "MinAnomalyVal =Q1 - 1.5*IQR\n",
    "MaxAnomalyVal =Q3 + 1.5*IQR\n",
    "print (MinAnomalyVal)\n",
    "print (MaxAnomalyVal)\n",
    "print(df[(df.TotalCost <MinAnomalyVal) | (df.TotalCost>MaxAnomalyVal)])# gives us 2 anomally values\n",
    "print ('Range of the cost is : ',np.ptp(df.TotalCost))#range of the values"
   ]
  },
  {
   "cell_type": "code",
   "execution_count": 3,
   "metadata": {},
   "outputs": [
    {
     "name": "stdout",
     "output_type": "stream",
     "text": [
      "[0. 0.]\n",
      "[4.40000000e+01 3.15431172e+06]\n",
      "[0.00000000e+00 2.35181927e+10]\n",
      "[3.47600000e+03 1.94919288e+14]\n",
      "[0.         4.19804443]\n"
     ]
    }
   ],
   "source": [
    "\n",
    "\n"
   ]
  }
 ],
 "metadata": {
  "kernelspec": {
   "display_name": "Python 3",
   "language": "python",
   "name": "python3"
  },
  "language_info": {
   "codemirror_mode": {
    "name": "ipython",
    "version": 3
   },
   "file_extension": ".py",
   "mimetype": "text/x-python",
   "name": "python",
   "nbconvert_exporter": "python",
   "pygments_lexer": "ipython3",
   "version": "3.7.1"
  }
 },
 "nbformat": 4,
 "nbformat_minor": 2
}
